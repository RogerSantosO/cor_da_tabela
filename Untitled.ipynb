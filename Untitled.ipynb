{
 "cells": [
  {
   "cell_type": "markdown",
   "id": "5361a781",
   "metadata": {},
   "source": [
    ">>> from openpyxl.styles import Border, Side, PatternFill, Font, GradientFill, Alignment\n",
    ">>> from openpyxl import Workbook\n",
    ">>>\n",
    ">>> wb = Workbook()\n",
    ">>> ws = wb.active\n",
    ">>> ws.merge_cells('B2:F4')\n",
    ">>>\n",
    ">>> top_left_cell = ws['B2']\n",
    ">>> top_left_cell.value = \"My Cell\"\n",
    ">>>\n",
    ">>> thin = Side(border_style=\"thin\", color=\"000000\")\n",
    ">>> double = Side(border_style=\"double\", color=\"ff0000\")\n",
    ">>>\n",
    ">>> top_left_cell.border = Border(top=double, left=thin, right=thin, bottom=double)\n",
    ">>> top_left_cell.fill = PatternFill(\"solid\", fgColor=\"DDDDDD\")\n",
    ">>> top_left_cell.fill = fill = GradientFill(stop=(\"000000\", \"FFFFFF\"))\n",
    ">>> top_left_cell.font  = Font(b=True, color=\"FF0000\")\n",
    ">>> top_left_cell.alignment = Alignment(horizontal=\"center\", vertical=\"center\")\n",
    ">>>\n",
    ">>> wb.save(\"styled.xlsx\")"
   ]
  },
  {
   "cell_type": "code",
   "execution_count": 107,
   "id": "a51e04a5",
   "metadata": {},
   "outputs": [
    {
     "name": "stdout",
     "output_type": "stream",
     "text": [
      "HEX = FFFFAA95\n",
      "<Worksheet \"Planilha1\">\n"
     ]
    },
    {
     "name": "stderr",
     "output_type": "stream",
     "text": [
      "C:\\Users\\rokyu\\anaconda3\\lib\\site-packages\\ipykernel\\ipkernel.py:287: DeprecationWarning:`should_run_async` will not call `transform_cell` automatically in the future. Please pass the result to `transformed_cell` argument and any exception that happen during thetransform in `preprocessing_exc_tuple` in IPython 7.17 and above.\n"
     ]
    }
   ],
   "source": [
   ]
  }
 ],
 "metadata": {
  "kernelspec": {
   "display_name": "Python 3",
   "language": "python",
   "name": "python3"
  },
  "language_info": {
   "codemirror_mode": {
    "name": "ipython",
    "version": 3
   },
   "file_extension": ".py",
   "mimetype": "text/x-python",
   "name": "python",
   "nbconvert_exporter": "python",
   "pygments_lexer": "ipython3",
   "version": "3.8.8"
  }
 },
 "nbformat": 4,
 "nbformat_minor": 5
}
