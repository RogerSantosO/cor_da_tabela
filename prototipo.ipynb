{
 "cells": [
  {
   "cell_type": "markdown",
   "id": "ee7947fc",
   "metadata": {},
   "source": [
    ">>> from openpyxl.styles import Border, Side, PatternFill, Font, GradientFill, Alignment\n",
    ">>> from openpyxl import Workbook\n",
    ">>>\n",
    ">>> wb = Workbook()\n",
    ">>> ws = wb.active\n",
    ">>> ws.merge_cells('B2:F4')\n",
    ">>>\n",
    ">>> top_left_cell = ws['B2']\n",
    ">>> top_left_cell.value = \"My Cell\"\n",
    ">>>\n",
    ">>> thin = Side(border_style=\"thin\", color=\"000000\")\n",
    ">>> double = Side(border_style=\"double\", color=\"ff0000\")\n",
    ">>>\n",
    ">>> top_left_cell.border = Border(top=double, left=thin, right=thin, bottom=double)\n",
    ">>> top_left_cell.fill = PatternFill(\"solid\", fgColor=\"DDDDDD\")\n",
    ">>> top_left_cell.fill = fill = GradientFill(stop=(\"000000\", \"FFFFFF\"))\n",
    ">>> top_left_cell.font  = Font(b=True, color=\"FF0000\")\n",
    ">>> top_left_cell.alignment = Alignment(horizontal=\"center\", vertical=\"center\")\n",
    ">>>\n",
    ">>> wb.save(\"styled.xlsx\")\n",
    "\n",
    "color_in_hex = sh['f7'].font.color.rgb # this gives you Hexadecimal value of the color\n",
    "print ('HEX =',color_in_hex) \n",
    "print(sh)\n",
    "\n",
    "\n",
    "import openpyxl\n",
    "from openpyxl import load_workbook\n",
    "\n",
    "excel_file = 'tabela.xlsx' \n",
    "planilha = load_workbook(excel_file, data_only = True)\n",
    "aba_ativa = planilha.active\n",
    "linha = 1\n",
    "while linha <= len(aba_ativa['f']):\n",
    "    if aba_ativa[f'f{linha}'].font.color.rgb == \"FFFFAA95\":\n",
    "        aba_ativa[f'i{linha}'] = 1\n",
    "    else:\n",
    "        linha = celula.row\n",
    "        aba_ativa[f'i{linha}'] = 0\n",
    "planilha.save('teste.xlsx')"
   ]
  },
  {
   "cell_type": "code",
   "execution_count": 172,
   "id": "a51e04a5",
   "metadata": {},
   "outputs": [],
   "source": [
    "import openpyxl\n",
    "excel_file = 'tabela.xlsx' \n",
    "planilha = load_workbook(excel_file, data_only = True)\n",
    "aba_ativa = planilha.active\n",
    "for celula in aba_ativa[\"F\"]:\n",
    "#comando for usado para passar por todos os dados inseridos na coluna F\n",
    "    try:\n",
    "        if celula.font.color.rgb == \"FFC9211E\":\n",
    "            linha = celula.row\n",
    "            aba_ativa[f'i{linha}'] = 1\n",
    "        else:\n",
    "            linha = celula.row\n",
    "            aba_ativa[f'i{linha}'] = 0\n",
    "        #Try usado para caso a célula tenha o atributo rgb. Se o tiver será atribuido o valor 1 se for correspondente à cor ou 0 se não for\n",
    "    except:\n",
    "        linha = celula.row\n",
    "        aba_ativa[f'i{linha}'] = 0\n",
    "    #com o except até mesmo as células sem o atributo rgb recebem o valor 0        \n",
    "planilha.save('planilha_pronta.xlsx')    "
   ]
  },
  {
   "cell_type": "code",
   "execution_count": 165,
   "id": "93678da1",
   "metadata": {},
   "outputs": [
    {
     "name": "stdout",
     "output_type": "stream",
     "text": [
      "True\n"
     ]
    }
   ],
   "source": [
    "from openpyxl.styles import Border, Side, PatternFill, Font, GradientFill, Alignment\n",
    ">>> from openpyxl import Workbook\n",
    "\n",
    ">>>\n",
    ">>> top_left_cell = ws['f8']\n",
    "linha = 1\n",
    "if ws[f\"F{linha}\"].font.color != \"FFFFAA97\":\n",
    "    print('True')\n",
    "else:\n",
    "    print('False')\n"
   ]
  },
  {
   "cell_type": "code",
   "execution_count": 166,
   "id": "cf9d636f",
   "metadata": {},
   "outputs": [
    {
     "name": "stdout",
     "output_type": "stream",
     "text": [
      "None\n",
      "<openpyxl.styles.colors.Color object>\n",
      "Parameters:\n",
      "rgb='FF000000', indexed=None, auto=None, theme=None, tint=0.0, type='rgb'\n",
      "None\n",
      "None\n",
      "<openpyxl.styles.colors.Color object>\n",
      "Parameters:\n",
      "rgb='FFC9211E', indexed=None, auto=None, theme=None, tint=0.0, type='rgb'\n",
      "<openpyxl.styles.colors.Color object>\n",
      "Parameters:\n",
      "rgb='FFC9211E', indexed=None, auto=None, theme=None, tint=0.0, type='rgb'\n",
      "<openpyxl.styles.colors.Color object>\n",
      "Parameters:\n",
      "rgb='FFFFAA95', indexed=None, auto=None, theme=None, tint=0.0, type='rgb'\n",
      "<openpyxl.styles.colors.Color object>\n",
      "Parameters:\n",
      "rgb='FF000000', indexed=None, auto=None, theme=None, tint=0.0, type='rgb'\n",
      "<openpyxl.styles.colors.Color object>\n",
      "Parameters:\n",
      "rgb='FFC9211E', indexed=None, auto=None, theme=None, tint=0.0, type='rgb'\n",
      "<openpyxl.styles.colors.Color object>\n",
      "Parameters:\n",
      "rgb='FFC9211E', indexed=None, auto=None, theme=None, tint=0.0, type='rgb'\n",
      "<openpyxl.styles.colors.Color object>\n",
      "Parameters:\n",
      "rgb='FFC9211E', indexed=None, auto=None, theme=None, tint=0.0, type='rgb'\n",
      "<openpyxl.styles.colors.Color object>\n",
      "Parameters:\n",
      "rgb='FFC9211E', indexed=None, auto=None, theme=None, tint=0.0, type='rgb'\n",
      "<openpyxl.styles.colors.Color object>\n",
      "Parameters:\n",
      "rgb='FFC9211E', indexed=None, auto=None, theme=None, tint=0.0, type='rgb'\n",
      "<openpyxl.styles.colors.Color object>\n",
      "Parameters:\n",
      "rgb='FFC9211E', indexed=None, auto=None, theme=None, tint=0.0, type='rgb'\n",
      "None\n",
      "None\n",
      "None\n",
      "None\n",
      "None\n",
      "None\n",
      "None\n",
      "None\n",
      "None\n",
      "None\n",
      "None\n",
      "None\n",
      "None\n",
      "None\n"
     ]
    }
   ],
   "source": [
    "for celula in aba_ativa[\"F\"]:\n",
    "    print(celula.font.color)"
   ]
  },
  {
   "cell_type": "code",
   "execution_count": 167,
   "id": "c335b9a0",
   "metadata": {},
   "outputs": [
    {
     "name": "stdout",
     "output_type": "stream",
     "text": [
      "<Cell 'Planilha1'.F1>\n",
      "<Cell 'Planilha1'.F2>\n",
      "<Cell 'Planilha1'.F3>\n",
      "<Cell 'Planilha1'.F4>\n",
      "<Cell 'Planilha1'.F5>\n",
      "<Cell 'Planilha1'.F6>\n",
      "<Cell 'Planilha1'.F7>\n",
      "<Cell 'Planilha1'.F8>\n",
      "<Cell 'Planilha1'.F9>\n",
      "<Cell 'Planilha1'.F10>\n",
      "<Cell 'Planilha1'.F11>\n",
      "<Cell 'Planilha1'.F12>\n",
      "<Cell 'Planilha1'.F13>\n",
      "<Cell 'Planilha1'.F14>\n",
      "<Cell 'Planilha1'.F15>\n",
      "<Cell 'Planilha1'.F16>\n",
      "<Cell 'Planilha1'.F17>\n",
      "<Cell 'Planilha1'.F18>\n",
      "<Cell 'Planilha1'.F19>\n",
      "<Cell 'Planilha1'.F20>\n",
      "<Cell 'Planilha1'.F21>\n",
      "<Cell 'Planilha1'.F22>\n",
      "<Cell 'Planilha1'.F23>\n",
      "<Cell 'Planilha1'.F24>\n",
      "<Cell 'Planilha1'.F25>\n",
      "<Cell 'Planilha1'.F26>\n",
      "<Cell 'Planilha1'.F27>\n",
      "<Cell 'Planilha1'.F28>\n"
     ]
    }
   ],
   "source": [
    "from openpyxl.styles import Border, Side, PatternFill, Font, GradientFill, Alignment\n",
    "from openpyxl import Workbook\n",
    "import openpyxl\n",
    "from openpyxl import load_workbook\n",
    "excel_file = 'tabela.xlsx' \n",
    "planilha = load_workbook(excel_file, data_only = True)\n",
    "aba_ativa = planilha.active\n",
    "for celula in aba_ativa[\"f\"]:\n",
    "    print(celula)"
   ]
  },
  {
   "cell_type": "markdown",
   "id": "8c1acf47",
   "metadata": {},
   "source": []
  }
 ],
 "metadata": {
  "kernelspec": {
   "display_name": "Python 3 (ipykernel)",
   "language": "python",
   "name": "python3"
  },
  "language_info": {
   "codemirror_mode": {
    "name": "ipython",
    "version": 3
   },
   "file_extension": ".py",
   "mimetype": "text/x-python",
   "name": "python",
   "nbconvert_exporter": "python",
   "pygments_lexer": "ipython3",
   "version": "3.8.10"
  }
 },
 "nbformat": 4,
 "nbformat_minor": 5
}
